{
  "nbformat": 4,
  "nbformat_minor": 0,
  "metadata": {
    "colab": {
      "provenance": [],
      "authorship_tag": "ABX9TyNrmQQwBg2ddZp4OrbamBl5",
      "include_colab_link": true
    },
    "kernelspec": {
      "name": "python3",
      "display_name": "Python 3"
    },
    "language_info": {
      "name": "python"
    }
  },
  "cells": [
    {
      "cell_type": "markdown",
      "metadata": {
        "id": "view-in-github",
        "colab_type": "text"
      },
      "source": [
        "<a href=\"https://colab.research.google.com/github/dgquintanilha/for_while_do_while/blob/main/for_while_do_while.ipynb\" target=\"_parent\"><img src=\"https://colab.research.google.com/assets/colab-badge.svg\" alt=\"Open In Colab\"/></a>"
      ]
    },
    {
      "cell_type": "code",
      "execution_count": null,
      "metadata": {
        "id": "i57CUm4V79cU"
      },
      "outputs": [],
      "source": [
        "# Precisamos imprimir um número para cada andar de um hotel de 20 andares. Porém, o dono do hotel é supersticioso e optou por não ter um 13ro andar.\n",
        "\n",
        "# Escreva um código que imprima todos os números exceto o número 13.\n",
        "# Escreva mais dois códigos que resolvam o mesmo problema, mas dessa vez usando os outros dois tipos de laços de repetição aprendidos.\n",
        "\n",
        "# Como desafio, imprima eles em ordem decrescente (20, 19, 18...)\n",
        "\n",
        "for numero in range(1, 21):\n",
        "  if numero !=13:\n",
        "    print(numero)\n",
        "\n",
        "# Utilizando o loop while em ordem decrescente\n",
        "\n",
        "numero = 20\n",
        "while numero >= 1:\n",
        "    if numero != 13:\n",
        "        print(numero)\n",
        "    numero -= 1\n",
        "\n",
        "# E aqui está uma terceira versão do código que utiliza um loop do-while  (emulado usando um loop while):\n",
        "num = 1\n",
        "while True:\n",
        "    if num != 13:\n",
        "        print(num)\n",
        "    num += 1\n",
        "    if num > 20:\n",
        "        break"
      ]
    }
  ]
}